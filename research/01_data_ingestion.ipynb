{
 "cells": [
  {
   "cell_type": "code",
   "execution_count": null,
   "id": "42421594",
   "metadata": {},
   "outputs": [],
   "source": []
  },
  {
   "cell_type": "code",
   "execution_count": 2,
   "id": "96260f9b",
   "metadata": {},
   "outputs": [],
   "source": [
    "import os \n",
    "from pathlib import Path"
   ]
  },
  {
   "cell_type": "code",
   "execution_count": 3,
   "id": "80049acd",
   "metadata": {},
   "outputs": [
    {
     "data": {
      "text/plain": [
       "'c:\\\\code\\\\ML\\\\e-commerce\\\\research'"
      ]
     },
     "execution_count": 3,
     "metadata": {},
     "output_type": "execute_result"
    }
   ],
   "source": [
    "%pwd"
   ]
  },
  {
   "cell_type": "code",
   "execution_count": 4,
   "id": "8a9dea04",
   "metadata": {},
   "outputs": [],
   "source": [
    "os.chdir(\"../\")"
   ]
  },
  {
   "cell_type": "code",
   "execution_count": 5,
   "id": "ff7df69b",
   "metadata": {},
   "outputs": [
    {
     "data": {
      "text/plain": [
       "'c:\\\\code\\\\ML\\\\e-commerce'"
      ]
     },
     "execution_count": 5,
     "metadata": {},
     "output_type": "execute_result"
    }
   ],
   "source": [
    "%pwd"
   ]
  },
  {
   "cell_type": "code",
   "execution_count": 6,
   "id": "aa89d54b",
   "metadata": {},
   "outputs": [],
   "source": [
    "#config.yaml ----> done"
   ]
  },
  {
   "cell_type": "code",
   "execution_count": 7,
   "id": "aeed27b3",
   "metadata": {},
   "outputs": [],
   "source": [
    "#entity\n",
    "from dataclasses import dataclass\n",
    "\n",
    "@dataclass\n",
    "class DataIngestionconfig:\n",
    "  root_dir : Path\n",
    "  source_url : str\n",
    "  local_data_file : Path\n",
    "\n",
    " "
   ]
  },
  {
   "cell_type": "code",
   "execution_count": 8,
   "id": "8b7d24ab",
   "metadata": {},
   "outputs": [],
   "source": [
    "#configuration"
   ]
  },
  {
   "cell_type": "code",
   "execution_count": 22,
   "id": "cfc95ad2",
   "metadata": {},
   "outputs": [],
   "source": [
    "from e_commerce.utils.common import read_yaml , create_directories \n",
    "from e_commerce.constants import *\n",
    "from e_commerce.entity.config_entity import DataIngestionconfig"
   ]
  },
  {
   "cell_type": "code",
   "execution_count": 10,
   "id": "ba3846f8",
   "metadata": {},
   "outputs": [],
   "source": [
    "class ConfigurationManager:\n",
    "    def __init__(self,config_file_path=CONFIG_FILE_PATH,\n",
    "                 params_file_path = PARAMS_FILE_PATH):\n",
    "        self.config = read_yaml(config_file_path)\n",
    "        self.params = read_yaml(params_file_path)\n",
    "\n",
    "        create_directories([self.config.artifacts_root])\n",
    "\n",
    "    def get_data_ingestion_config(self)->DataIngestionconfig:\n",
    "        config = self.config.data_ingestion\n",
    "        data_ingestion_config = DataIngestionconfig(root_dir=config.root_dir,\n",
    "                                                    source_url=config.source_url,\n",
    "                                                    local_data_file=config.local_data_file)\n",
    "        return data_ingestion_config\n",
    "    \n"
   ]
  },
  {
   "cell_type": "code",
   "execution_count": 11,
   "id": "291b6050",
   "metadata": {},
   "outputs": [],
   "source": [
    "#components"
   ]
  },
  {
   "cell_type": "code",
   "execution_count": 26,
   "id": "b7f3d46f",
   "metadata": {},
   "outputs": [],
   "source": [
    "import os\n",
    "import urllib.request \n",
    "import zipfile\n",
    "from e_commerce import logger\n",
    "from e_commerce.utils.common import get_size\n",
    "from e_commerce.entity.config_entity import DataIngestionconfig\n",
    "import requests\n",
    "\n",
    "class DataIngestionComponent:\n",
    "    def __init__(self,config:DataIngestionconfig):\n",
    "        self.config = config\n",
    "\n",
    "    def download_file(self):\n",
    "        url=self.config.source_url\n",
    "        output_path=self.config.local_data_file\n",
    "        os.makedirs(os.path.dirname(output_path), exist_ok=True)\n",
    "        logger.info(f\"Starting download from {self.config.source_url}...\")\n",
    "        try:\n",
    "            with requests.get(url, stream=True) as r:\n",
    "                r.raise_for_status()\n",
    "                with open(output_path, 'wb') as f:\n",
    "                    for chunk in r.iter_content(chunk_size=8192):\n",
    "                        if chunk:\n",
    "                            f.write(chunk)\n",
    "            print(f\"File successfully downloaded to: {output_path}\")\n",
    "        except Exception as e:\n",
    "            print(f\"Download failed: {e}\")\n",
    "        return self.config.local_data_file\n",
    "\n",
    "\n",
    "        "
   ]
  },
  {
   "cell_type": "code",
   "execution_count": 13,
   "id": "55d7d20a",
   "metadata": {},
   "outputs": [],
   "source": [
    "#pipeline"
   ]
  },
  {
   "cell_type": "code",
   "execution_count": 27,
   "id": "1c326880",
   "metadata": {},
   "outputs": [
    {
     "name": "stdout",
     "output_type": "stream",
     "text": [
      "[2025-05-25 22:33:39,247: INFO: common: yaml file: config\\config.yaml loaded successfully]\n",
      "[2025-05-25 22:33:39,349: INFO: common: yaml file: params.yaml loaded successfully]\n",
      "[2025-05-25 22:33:39,349: INFO: common: created directory at: artifacts]\n",
      "[2025-05-25 22:33:39,390: INFO: 3673157110: Starting download from https://raw.githubusercontent.com/kartheek2003/data_zip_repo/main/online_retail.xlsx...]\n",
      "File successfully downloaded to: artifacts/data_ingestion/online_retail.xlsx\n"
     ]
    }
   ],
   "source": [
    "try : \n",
    "    config  = ConfigurationManager()\n",
    "    data_ingestion_configuration = config.get_data_ingestion_config()\n",
    "    data_ing_comp = DataIngestionComponent(config=data_ingestion_configuration)\n",
    "    data_ing_comp.download_file()\n",
    "except Exception as e:\n",
    "    raise e"
   ]
  },
  {
   "cell_type": "code",
   "execution_count": null,
   "id": "80d70a9b",
   "metadata": {},
   "outputs": [],
   "source": []
  }
 ],
 "metadata": {
  "kernelspec": {
   "display_name": "env310",
   "language": "python",
   "name": "python3"
  },
  "language_info": {
   "codemirror_mode": {
    "name": "ipython",
    "version": 3
   },
   "file_extension": ".py",
   "mimetype": "text/x-python",
   "name": "python",
   "nbconvert_exporter": "python",
   "pygments_lexer": "ipython3",
   "version": "3.10.10"
  }
 },
 "nbformat": 4,
 "nbformat_minor": 5
}
