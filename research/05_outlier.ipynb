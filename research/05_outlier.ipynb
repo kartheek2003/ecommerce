{
 "cells": [
  {
   "cell_type": "code",
   "execution_count": 2,
   "id": "fae5e30e",
   "metadata": {},
   "outputs": [],
   "source": [
    "import os"
   ]
  },
  {
   "cell_type": "code",
   "execution_count": 1,
   "id": "68503f14",
   "metadata": {},
   "outputs": [
    {
     "data": {
      "text/plain": [
       "'c:\\\\code\\\\ML\\\\e-commerce\\\\research'"
      ]
     },
     "execution_count": 1,
     "metadata": {},
     "output_type": "execute_result"
    }
   ],
   "source": [
    "%pwd"
   ]
  },
  {
   "cell_type": "code",
   "execution_count": 3,
   "id": "07901054",
   "metadata": {},
   "outputs": [],
   "source": [
    "\n",
    "os.chdir(\"../\")"
   ]
  },
  {
   "cell_type": "code",
   "execution_count": 4,
   "id": "9223c0a7",
   "metadata": {},
   "outputs": [
    {
     "data": {
      "text/plain": [
       "'c:\\\\code\\\\ML\\\\e-commerce'"
      ]
     },
     "execution_count": 4,
     "metadata": {},
     "output_type": "execute_result"
    }
   ],
   "source": [
    "%pwd"
   ]
  },
  {
   "cell_type": "code",
   "execution_count": 5,
   "id": "eea08b36",
   "metadata": {},
   "outputs": [],
   "source": [
    "#config yaml"
   ]
  },
  {
   "cell_type": "code",
   "execution_count": 6,
   "id": "7f246ae9",
   "metadata": {},
   "outputs": [],
   "source": [
    "#config entity"
   ]
  },
  {
   "cell_type": "code",
   "execution_count": 7,
   "id": "d7d4259a",
   "metadata": {},
   "outputs": [],
   "source": [
    "#configuration"
   ]
  },
  {
   "cell_type": "code",
   "execution_count": 8,
   "id": "0d428f66",
   "metadata": {},
   "outputs": [],
   "source": [
    "from e_commerce.utils.common import read_yaml , create_directories \n",
    "from e_commerce.constants import *\n",
    "from e_commerce.entity.config_entity import DataIngestionconfig,PreProcessing,FeatureEngineeringconfig,EDA,outlier\n",
    "\n",
    "class ConfigurationManager:\n",
    "    def __init__(self,config_file_path=CONFIG_FILE_PATH,\n",
    "                 params_file_path = PARAMS_FILE_PATH):\n",
    "        self.config = read_yaml(config_file_path)\n",
    "        self.params = read_yaml(params_file_path)\n",
    "\n",
    "        create_directories([self.config.artifacts_root])\n",
    "\n",
    "    def get_data_ingestion_config(self)->DataIngestionconfig:\n",
    "        config = self.config.data_ingestion\n",
    "        data_ingestion_config = DataIngestionconfig(root_dir=config.root_dir,\n",
    "                                                    source_url=config.source_url,\n",
    "                                                    local_data_file=config.local_data_file)\n",
    "        return data_ingestion_config\n",
    "    \n",
    "    def get_preprocessing_config(self)->PreProcessing:\n",
    "        config = self.config.pre_processing\n",
    "        create_directories([config.cleaned_data_save_path])\n",
    "        create_directories([config.data_report])\n",
    "        pre_processing_config = PreProcessing(data_path=config.data_path,cleaned_data_save_path=config.cleaned_data_save_path,data_report=config.data_report\n",
    "                                              )\n",
    "        return pre_processing_config\n",
    "    \n",
    "    def get_feature_engg_config(self)->FeatureEngineeringconfig:\n",
    "        config = self.config.feature_engg\n",
    "        create_directories([config.output_path])\n",
    "        feature_engg_config = FeatureEngineeringconfig(data_path=config.data_path,output_path=config.output_path)\n",
    "        return feature_engg_config \n",
    "    \n",
    "    def get_eda_config(self)->EDA:\n",
    "        config = self.config.EDA\n",
    "        create_directories([config.report])\n",
    "        eda_config = EDA(data_path=config.data_path,report=config.report)\n",
    "\n",
    "        return eda_config\n",
    "    \n",
    "    def outlier_config(self)->outlier:\n",
    "        config = self.config.outlier\n",
    "        create_directories([config.output_path])\n",
    "        create_directories([config.report])\n",
    "        outlier_config = outlier(data_path=config.data_path,output_path=config.output_path,report=config.report)\n",
    "        return outlier_config\n",
    "    "
   ]
  },
  {
   "cell_type": "code",
   "execution_count": 9,
   "id": "588dee8c",
   "metadata": {},
   "outputs": [],
   "source": [
    "#component"
   ]
  },
  {
   "cell_type": "code",
   "execution_count": 14,
   "id": "735df8a6",
   "metadata": {},
   "outputs": [],
   "source": [
    "import pandas as pd\n",
    "import seaborn as sns\n",
    "import matplotlib.pyplot as plt\n",
    "class OutlierComponent:\n",
    "    def __init__(self,config:outlier):\n",
    "        self.config = config\n",
    "    \n",
    "    def load_data(self):\n",
    "        if not os.path.exists(self.config.data_path):\n",
    "            raise FileNotFoundError(f\"Input file not found: {self.config.data_path}\")\n",
    "        return pd.read_csv(self.config.data_path)\n",
    "\n",
    "    def outlier_removal(self):\n",
    "        df = self.load_data()\n",
    "        rmf = df.drop([\"CustomerID\"],axis=1)\n",
    "        for col in rmf.columns:\n",
    "            q1 = rmf[col].quantile(0.25)\n",
    "            q3 = rmf[col].quantile(0.75)\n",
    "            IQR = q3-q1\n",
    "            lower = q1-(1.5*IQR)\n",
    "            upper = q3+(1.5*IQR)\n",
    "            rmf = rmf[(rmf[col] >= lower) & (rmf[col] <= upper)]\n",
    "        rmf.to_csv(os.path.join(self.config.output_path,\"rmf_final.csv\"),index=False)\n",
    "\n",
    "        # lets do some eda with this data \n",
    "        # EDA - Histogram\n",
    "        plt.figure(figsize=(12, 10))\n",
    "        rmf.hist(bins=10, figsize=(12, 6))\n",
    "        plt.suptitle('Distributions of Recency, Frequency, and Monetary', fontsize=16)\n",
    "        plt.savefig(os.path.join(self.config.report, \"histograms.png\"))\n",
    "        plt.clf()\n",
    "\n",
    "        # EDA - Boxplots\n",
    "        plt.figure(figsize=(12, 5))\n",
    "        for i, col in enumerate(rmf.columns):\n",
    "            plt.subplot(1, len(rmf.columns), i+1)\n",
    "            sns.boxplot(y=rmf[col])\n",
    "            plt.title(f'Boxplot of {col}')\n",
    "        plt.tight_layout()\n",
    "        plt.savefig(os.path.join(self.config.report, \"boxplots.png\"))\n",
    "        plt.clf()\n",
    "\n",
    "        # EDA - Correlation Heatmap\n",
    "        plt.figure(figsize=(6, 4))\n",
    "        sns.heatmap(rmf.corr(), annot=True, cmap='coolwarm')\n",
    "        plt.title('RFM Feature Correlation')\n",
    "        plt.savefig(os.path.join(self.config.report, \"correlation.png\"))\n",
    "        plt.clf()\n",
    "\n",
    "        # EDA - Pairplot\n",
    "        sns.pairplot(rmf)\n",
    "        plt.suptitle('Pairplot of RFM Features', y=1.02)\n",
    "        plt.savefig(os.path.join(self.config.report, \"pairplot.png\"))\n",
    "        plt.clf()"
   ]
  },
  {
   "cell_type": "code",
   "execution_count": 12,
   "id": "7cbfaa86",
   "metadata": {},
   "outputs": [],
   "source": [
    "#pipeline"
   ]
  },
  {
   "cell_type": "code",
   "execution_count": 15,
   "id": "895992c6",
   "metadata": {},
   "outputs": [
    {
     "name": "stdout",
     "output_type": "stream",
     "text": [
      "[2025-05-30 20:36:57,480: INFO: common: yaml file: config\\config.yaml loaded successfully]\n",
      "[2025-05-30 20:36:57,484: INFO: common: yaml file: params.yaml loaded successfully]\n",
      "[2025-05-30 20:36:57,486: INFO: common: created directory at: artifacts]\n",
      "[2025-05-30 20:36:57,491: INFO: common: created directory at: artifacts/outlier]\n",
      "[2025-05-30 20:36:57,493: INFO: common: created directory at: artifacts/outlier/report]\n"
     ]
    },
    {
     "data": {
      "text/plain": [
       "<Figure size 1200x1000 with 0 Axes>"
      ]
     },
     "metadata": {},
     "output_type": "display_data"
    },
    {
     "data": {
      "text/plain": [
       "<Figure size 1200x600 with 0 Axes>"
      ]
     },
     "metadata": {},
     "output_type": "display_data"
    },
    {
     "data": {
      "text/plain": [
       "<Figure size 1200x500 with 0 Axes>"
      ]
     },
     "metadata": {},
     "output_type": "display_data"
    },
    {
     "data": {
      "text/plain": [
       "<Figure size 600x400 with 0 Axes>"
      ]
     },
     "metadata": {},
     "output_type": "display_data"
    },
    {
     "data": {
      "text/plain": [
       "<Figure size 1000x1000 with 0 Axes>"
      ]
     },
     "metadata": {},
     "output_type": "display_data"
    }
   ],
   "source": [
    "try :\n",
    "    config = ConfigurationManager()\n",
    "    outlier_Config = config.outlier_config()\n",
    "    outlier_comp = OutlierComponent(config=outlier_Config)\n",
    "    outlier_comp.outlier_removal()\n",
    "\n",
    "except Exception as e:\n",
    "    raise e"
   ]
  },
  {
   "cell_type": "code",
   "execution_count": null,
   "id": "7ac79a83",
   "metadata": {},
   "outputs": [],
   "source": []
  }
 ],
 "metadata": {
  "kernelspec": {
   "display_name": "env310",
   "language": "python",
   "name": "python3"
  },
  "language_info": {
   "codemirror_mode": {
    "name": "ipython",
    "version": 3
   },
   "file_extension": ".py",
   "mimetype": "text/x-python",
   "name": "python",
   "nbconvert_exporter": "python",
   "pygments_lexer": "ipython3",
   "version": "3.10.10"
  }
 },
 "nbformat": 4,
 "nbformat_minor": 5
}
