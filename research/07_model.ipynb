{
 "cells": [
  {
   "cell_type": "code",
   "execution_count": null,
   "id": "5791cfcd",
   "metadata": {},
   "outputs": [],
   "source": []
  },
  {
   "cell_type": "code",
   "execution_count": 1,
   "id": "a4017317",
   "metadata": {},
   "outputs": [],
   "source": [
    "import os"
   ]
  },
  {
   "cell_type": "code",
   "execution_count": 2,
   "id": "a9e316be",
   "metadata": {},
   "outputs": [],
   "source": [
    "os.chdir(\"../\")"
   ]
  },
  {
   "cell_type": "code",
   "execution_count": 3,
   "id": "b28b981b",
   "metadata": {},
   "outputs": [
    {
     "data": {
      "text/plain": [
       "'c:\\\\code\\\\ML\\\\e-commerce'"
      ]
     },
     "execution_count": 3,
     "metadata": {},
     "output_type": "execute_result"
    }
   ],
   "source": [
    "%pwd"
   ]
  },
  {
   "cell_type": "code",
   "execution_count": 4,
   "id": "0308cc76",
   "metadata": {},
   "outputs": [],
   "source": [
    "#config.yaml\n",
    "#config entity"
   ]
  },
  {
   "cell_type": "code",
   "execution_count": 5,
   "id": "b09304e5",
   "metadata": {},
   "outputs": [],
   "source": [
    "#configuration"
   ]
  },
  {
   "cell_type": "code",
   "execution_count": 6,
   "id": "3a7f361f",
   "metadata": {},
   "outputs": [],
   "source": [
    "from e_commerce.utils.common import read_yaml , create_directories \n",
    "from e_commerce.constants import *\n",
    "from e_commerce.entity.config_entity import DataIngestionconfig,PreProcessing,FeatureEngineeringconfig,EDA,outlier,cluster,model\n",
    "\n",
    "class ConfigurationManager:\n",
    "    def __init__(self,config_file_path=CONFIG_FILE_PATH,\n",
    "                 params_file_path = PARAMS_FILE_PATH):\n",
    "        self.config = read_yaml(config_file_path)\n",
    "        self.params = read_yaml(params_file_path)\n",
    "\n",
    "        create_directories([self.config.artifacts_root])\n",
    "\n",
    "    def get_data_ingestion_config(self)->DataIngestionconfig:\n",
    "        config = self.config.data_ingestion\n",
    "        data_ingestion_config = DataIngestionconfig(root_dir=config.root_dir,\n",
    "                                                    source_url=config.source_url,\n",
    "                                                    local_data_file=config.local_data_file)\n",
    "        return data_ingestion_config\n",
    "    \n",
    "    def get_preprocessing_config(self)->PreProcessing:\n",
    "        config = self.config.pre_processing\n",
    "        create_directories([config.cleaned_data_save_path])\n",
    "        create_directories([config.data_report])\n",
    "        pre_processing_config = PreProcessing(data_path=config.data_path,cleaned_data_save_path=config.cleaned_data_save_path,data_report=config.data_report\n",
    "                                              )\n",
    "        return pre_processing_config\n",
    "    \n",
    "    def get_feature_engg_config(self)->FeatureEngineeringconfig:\n",
    "        config = self.config.feature_engg\n",
    "        create_directories([config.output_path])\n",
    "        feature_engg_config = FeatureEngineeringconfig(data_path=config.data_path,output_path=config.output_path)\n",
    "        return feature_engg_config \n",
    "    \n",
    "    def get_eda_config(self)->EDA:\n",
    "        config = self.config.EDA\n",
    "        create_directories([config.report])\n",
    "        eda_config = EDA(data_path=config.data_path,report=config.report)\n",
    "\n",
    "        return eda_config\n",
    "    \n",
    "    def outlier_config(self)->outlier:\n",
    "        config = self.config.outlier\n",
    "        create_directories([config.output_path])\n",
    "        create_directories([config.report])\n",
    "        outlier_config = outlier(data_path=config.data_path,output_path=config.output_path,report=config.report)\n",
    "        return outlier_config\n",
    "    def cluster_config(self)->cluster:\n",
    "        config = self.config.cluster\n",
    "        params = self.params.cluster\n",
    "        create_directories([config.cluster])\n",
    "        create_directories([config.report])\n",
    "        cluster_config = cluster(data_path=config.data_path,cluster=config.cluster,report=config.report,random_state= params.random_state)\n",
    "        return cluster_config\n",
    "    \n",
    "    def get_model_config(self)->model:\n",
    "        config = self.config.model\n",
    "        params = self.params.model\n",
    "        create_directories([config.models])\n",
    "        create_directories([config.report])\n",
    "        model_config = model(data_path=config.data_path,kl_path=config.kl_path,models=config.models,report=config.report,random_state=params.random_state)\n",
    "        return model_config"
   ]
  },
  {
   "cell_type": "code",
   "execution_count": 7,
   "id": "4d485bc8",
   "metadata": {},
   "outputs": [],
   "source": [
    "#component"
   ]
  },
  {
   "cell_type": "code",
   "execution_count": 11,
   "id": "82379dc1",
   "metadata": {},
   "outputs": [],
   "source": [
    "import pandas as pd\n",
    "import seaborn as sns\n",
    "import matplotlib.pyplot as plt\n",
    "import joblib\n",
    "from sklearn.cluster import KMeans\n",
    "from kneed import KneeLocator\n",
    "\n",
    "\n",
    "class ModelBuildingComponent:\n",
    "    def __init__(self,config:model):\n",
    "        self.config = config\n",
    "    \n",
    "    def load_data(self):\n",
    "        if not os.path.exists(self.config.data_path):\n",
    "            raise FileNotFoundError(f\"file not found at {self.config.data_path}\")\n",
    "        return pd.read_csv(self.config.data_path)\n",
    "    \n",
    "\n",
    "    def build_model(self):\n",
    "        rmf_scaled = self.load_data()\n",
    "        # model building\n",
    "        kl = joblib.load(self.config.kl_path)\n",
    "\n",
    "        km_model = KMeans(n_clusters=kl.elbow,random_state=self.config.random_state)\n",
    "        joblib.dump(km_model,os.path.join(self.config.models,'km_model.pkl'))\n",
    "\n",
    "        y_predicted = km_model.fit_predict(rmf_scaled)\n",
    "\n",
    "        rmf_scaled['cluster'] = y_predicted\n",
    "\n",
    "        final_op_rmf = rmf_scaled\n",
    "\n",
    "        \n",
    "\n",
    "        # segmentation graphs\n",
    "\n",
    "        \n",
    "\n",
    "        plt.figure(figsize=(10,6))\n",
    "        sns.scatterplot(\n",
    "            x=final_op_rmf['recency'], \n",
    "            y=final_op_rmf['monetary'], \n",
    "            hue=final_op_rmf['cluster'], \n",
    "            palette='viridis',\n",
    "            alpha=0.7\n",
    "        )\n",
    "        plt.title('Customer Segments by Recency and Monetary Value')\n",
    "        plt.xlabel('Recency (days)')\n",
    "        plt.ylabel('Monetary Value')\n",
    "        plt.legend(title='Cluster')\n",
    "        plt.savefig(os.path.join(self.config.report,'segmentaion.png'))\n",
    "        plt.clf()\n",
    "\n",
    "        # pairplots\n",
    "        sns.pairplot(final_op_rmf, vars=['recency', 'frequency', 'monetary'], hue='cluster', palette='viridis')\n",
    "        plt.savefig(os.path.join(self.config.report,'pairplot.png'))\n",
    "        plt.clf()\n",
    "\n",
    "        # Compute the average RFM values for each cluster\n",
    "        cluster_profile = final_op_rmf.groupby('cluster')[['recency', 'frequency', 'monetary']].mean().round(1)\n",
    "        with open(\"cluster_profile_report.txt\", \"w\") as f:\n",
    "            f.write(\"Cluster Profile Report (Mean RFM Values):\\n\\n\")\n",
    "            f.write(cluster_profile.to_string())\n",
    "\n",
    "        segment_map = {\n",
    "            0: 'Loyal Customers',\n",
    "            1: 'Churned Customers',\n",
    "            2: 'Potential Loyalists'\n",
    "        }\n",
    "\n",
    "        final_op_rmf['segment'] = final_op_rmf['cluster'].map(segment_map)\n",
    "        final_op_rmf.to_csv(os.path.join(self.config.models, \"segmentation_output.csv\"), index=False)\n",
    "\n",
    "\n",
    "        # cluster with segmentation\n",
    "        plt.figure(figsize=(10, 6))\n",
    "        sns.scatterplot(\n",
    "            data=final_op_rmf, \n",
    "            x='recency', \n",
    "            y='monetary', \n",
    "            hue='segment', \n",
    "            palette='Set1', \n",
    "            s=100\n",
    "        )\n",
    "\n",
    "        plt.title(\"Customer Segments based on Recency and Monetary\")\n",
    "        plt.xlabel(\"Recency (days since last purchase)\")\n",
    "        plt.ylabel(\"Monetary (total spending)\")\n",
    "        plt.legend(title='Segment')\n",
    "        plt.grid(True)\n",
    "        plt.savefig(os.path.join(self.config.report,'segmentation_Cluster.png'))\n",
    "        plt.clf()\n",
    "        \n",
    "        "
   ]
  },
  {
   "cell_type": "code",
   "execution_count": 12,
   "id": "0a7855ec",
   "metadata": {},
   "outputs": [],
   "source": [
    "#pipeline"
   ]
  },
  {
   "cell_type": "code",
   "execution_count": 13,
   "id": "532e33e1",
   "metadata": {},
   "outputs": [
    {
     "name": "stdout",
     "output_type": "stream",
     "text": [
      "[2025-06-01 17:05:37,471: INFO: common: yaml file: config\\config.yaml loaded successfully]\n",
      "[2025-06-01 17:05:37,476: INFO: common: yaml file: params.yaml loaded successfully]\n",
      "[2025-06-01 17:05:37,478: INFO: common: created directory at: artifacts]\n",
      "[2025-06-01 17:05:37,481: INFO: common: created directory at: artifacts/models]\n",
      "[2025-06-01 17:05:37,485: INFO: common: created directory at: artifacts/models/report]\n"
     ]
    },
    {
     "data": {
      "text/plain": [
       "<Figure size 1000x600 with 0 Axes>"
      ]
     },
     "metadata": {},
     "output_type": "display_data"
    },
    {
     "data": {
      "text/plain": [
       "<Figure size 808.875x750 with 0 Axes>"
      ]
     },
     "metadata": {},
     "output_type": "display_data"
    },
    {
     "data": {
      "text/plain": [
       "<Figure size 1000x600 with 0 Axes>"
      ]
     },
     "metadata": {},
     "output_type": "display_data"
    }
   ],
   "source": [
    "try :\n",
    "    config = ConfigurationManager()\n",
    "    model_config = config.get_model_config()\n",
    "    model_build_comp = ModelBuildingComponent(config=model_config)\n",
    "    model_build_comp.build_model()\n",
    "\n",
    "except Exception as e:\n",
    "    raise e"
   ]
  },
  {
   "cell_type": "code",
   "execution_count": null,
   "id": "13bce26c",
   "metadata": {},
   "outputs": [],
   "source": []
  }
 ],
 "metadata": {
  "kernelspec": {
   "display_name": "env310",
   "language": "python",
   "name": "python3"
  },
  "language_info": {
   "codemirror_mode": {
    "name": "ipython",
    "version": 3
   },
   "file_extension": ".py",
   "mimetype": "text/x-python",
   "name": "python",
   "nbconvert_exporter": "python",
   "pygments_lexer": "ipython3",
   "version": "3.10.10"
  }
 },
 "nbformat": 4,
 "nbformat_minor": 5
}
