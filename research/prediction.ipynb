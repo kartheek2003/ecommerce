{
 "cells": [
  {
   "cell_type": "code",
   "execution_count": null,
   "id": "573ec8da",
   "metadata": {},
   "outputs": [],
   "source": []
  },
  {
   "cell_type": "code",
   "execution_count": 1,
   "id": "ca71f44f",
   "metadata": {},
   "outputs": [],
   "source": [
    "import os "
   ]
  },
  {
   "cell_type": "code",
   "execution_count": 2,
   "id": "228dad3c",
   "metadata": {},
   "outputs": [
    {
     "data": {
      "text/plain": [
       "'c:\\\\code\\\\ML\\\\e-commerce\\\\research'"
      ]
     },
     "execution_count": 2,
     "metadata": {},
     "output_type": "execute_result"
    }
   ],
   "source": [
    "%pwd"
   ]
  },
  {
   "cell_type": "code",
   "execution_count": 3,
   "id": "c2aeadb7",
   "metadata": {},
   "outputs": [],
   "source": [
    "os.chdir(\"../\")"
   ]
  },
  {
   "cell_type": "code",
   "execution_count": 4,
   "id": "1e2da73a",
   "metadata": {},
   "outputs": [
    {
     "data": {
      "text/plain": [
       "'c:\\\\code\\\\ML\\\\e-commerce'"
      ]
     },
     "execution_count": 4,
     "metadata": {},
     "output_type": "execute_result"
    }
   ],
   "source": [
    "%pwd"
   ]
  },
  {
   "cell_type": "code",
   "execution_count": 5,
   "id": "891b9979",
   "metadata": {},
   "outputs": [],
   "source": [
    "#config yaml\n",
    "#config entity"
   ]
  },
  {
   "cell_type": "code",
   "execution_count": 6,
   "id": "e1b67f1b",
   "metadata": {},
   "outputs": [],
   "source": [
    "#configuration"
   ]
  },
  {
   "cell_type": "code",
   "execution_count": 7,
   "id": "938bf461",
   "metadata": {},
   "outputs": [],
   "source": [
    "from e_commerce.utils.common import read_yaml , create_directories \n",
    "from e_commerce.constants import *\n",
    "from e_commerce.entity.config_entity import DataIngestionconfig,PreProcessing,FeatureEngineeringconfig,EDA,outlier,cluster,model,prediction\n",
    "\n",
    "class ConfigurationManager:\n",
    "    def __init__(self,config_file_path=CONFIG_FILE_PATH,\n",
    "                 params_file_path = PARAMS_FILE_PATH):\n",
    "        self.config = read_yaml(config_file_path)\n",
    "        self.params = read_yaml(params_file_path)\n",
    "\n",
    "        create_directories([self.config.artifacts_root])\n",
    "\n",
    "    def get_data_ingestion_config(self)->DataIngestionconfig:\n",
    "        config = self.config.data_ingestion\n",
    "        data_ingestion_config = DataIngestionconfig(root_dir=config.root_dir,\n",
    "                                                    source_url=config.source_url,\n",
    "                                                    local_data_file=config.local_data_file)\n",
    "        return data_ingestion_config\n",
    "    \n",
    "    def get_preprocessing_config(self)->PreProcessing:\n",
    "        config = self.config.pre_processing\n",
    "        create_directories([config.cleaned_data_save_path])\n",
    "        create_directories([config.data_report])\n",
    "        pre_processing_config = PreProcessing(data_path=config.data_path,cleaned_data_save_path=config.cleaned_data_save_path,data_report=config.data_report\n",
    "                                              )\n",
    "        return pre_processing_config\n",
    "    \n",
    "    def get_feature_engg_config(self)->FeatureEngineeringconfig:\n",
    "        config = self.config.feature_engg\n",
    "        create_directories([config.output_path])\n",
    "        feature_engg_config = FeatureEngineeringconfig(data_path=config.data_path,output_path=config.output_path)\n",
    "        return feature_engg_config \n",
    "    \n",
    "    def get_eda_config(self)->EDA:\n",
    "        config = self.config.EDA\n",
    "        create_directories([config.report])\n",
    "        eda_config = EDA(data_path=config.data_path,report=config.report)\n",
    "\n",
    "        return eda_config\n",
    "    \n",
    "    def outlier_config(self)->outlier:\n",
    "        config = self.config.outlier\n",
    "        create_directories([config.output_path])\n",
    "        create_directories([config.report])\n",
    "        outlier_config = outlier(data_path=config.data_path,output_path=config.output_path,report=config.report)\n",
    "        return outlier_config\n",
    "    def cluster_config(self)->cluster:\n",
    "        config = self.config.cluster\n",
    "        params = self.params.cluster\n",
    "        create_directories([config.cluster])\n",
    "        create_directories([config.report])\n",
    "        cluster_config = cluster(data_path=config.data_path,cluster=config.cluster,report=config.report,random_state= params.random_state)\n",
    "        return cluster_config\n",
    "    def get_model_config(self)->model:\n",
    "        config = self.config.model\n",
    "        params = self.params.model\n",
    "        create_directories([config.models])\n",
    "        create_directories([config.report])\n",
    "        model_config = model(data_path=config.data_path,kl_path=config.kl_path,models=config.models,report=config.report,random_state=params.random_state)\n",
    "        return model_config\n",
    "    \n",
    "    def prediction_config(self)->prediction:\n",
    "        config = self.config.prediction\n",
    "        prediction_config = prediction(model_path=config.model_path,scaler_path=config.scaler_path)\n",
    "        return prediction_config\n",
    "    "
   ]
  },
  {
   "cell_type": "code",
   "execution_count": 8,
   "id": "50f0112d",
   "metadata": {},
   "outputs": [],
   "source": [
    "#component"
   ]
  },
  {
   "cell_type": "code",
   "execution_count": 9,
   "id": "9d250c67",
   "metadata": {},
   "outputs": [],
   "source": [
    "import joblib\n",
    "import pandas as pd\n",
    "\n",
    "class prediction_component:\n",
    "    def __init__(self,config:prediction):\n",
    "        self.config = config\n",
    "        self.model = joblib.load(self.config.model_path)\n",
    "        self.scaler = joblib.load(self.config.scaler_path)\n",
    "    def predict(self,input:pd.DataFrame):\n",
    "        scaled_data = self.scaler.transform(input)\n",
    "        predicted = self.model.predict(scaled_data)\n",
    "\n",
    "        segment_map = {\n",
    "            0: 'Loyal Customers',\n",
    "            1: 'Churned Customers',\n",
    "            2: 'Potential Loyalists'\n",
    "        }\n",
    "        label = segment_map.get(predicted[0],\"Unknown\")\n",
    "        return label\n",
    "\n",
    "        \n",
    "\n",
    "\n",
    "        "
   ]
  },
  {
   "cell_type": "code",
   "execution_count": 16,
   "id": "c54a8edb",
   "metadata": {},
   "outputs": [],
   "source": [
    "#pipeline ----> app.py"
   ]
  },
  {
   "cell_type": "code",
   "execution_count": 11,
   "id": "e5c7b47e",
   "metadata": {},
   "outputs": [],
   "source": [
    "from flask import Flask, render_template, request\n",
    "import pandas as pd"
   ]
  },
  {
   "cell_type": "code",
   "execution_count": 15,
   "id": "8247f0d4",
   "metadata": {},
   "outputs": [
    {
     "name": "stdout",
     "output_type": "stream",
     "text": [
      " * Serving Flask app '__main__'\n",
      " * Debug mode: on\n",
      "[2025-06-01 19:54:15,807: INFO: _internal: \u001b[31m\u001b[1mWARNING: This is a development server. Do not use it in a production deployment. Use a production WSGI server instead.\u001b[0m\n",
      " * Running on all addresses (0.0.0.0)\n",
      " * Running on http://127.0.0.1:8000\n",
      " * Running on http://192.168.43.20:8000]\n",
      "[2025-06-01 19:54:15,810: INFO: _internal: \u001b[33mPress CTRL+C to quit\u001b[0m]\n"
     ]
    },
    {
     "name": "stdout",
     "output_type": "stream",
     "text": [
      "[2025-06-01 19:54:20,604: INFO: _internal: 127.0.0.1 - - [01/Jun/2025 19:54:20] \"GET / HTTP/1.1\" 200 -]\n",
      "[2025-06-01 19:54:33,269: INFO: common: yaml file: config\\config.yaml loaded successfully]\n",
      "[2025-06-01 19:54:33,281: INFO: common: yaml file: params.yaml loaded successfully]\n",
      "[2025-06-01 19:54:33,296: INFO: common: created directory at: artifacts]\n"
     ]
    },
    {
     "name": "stderr",
     "output_type": "stream",
     "text": [
      "c:\\code\\ML\\e-commerce\\env310\\lib\\site-packages\\sklearn\\utils\\validation.py:2739: UserWarning: X does not have valid feature names, but KMeans was fitted with feature names\n",
      "  warnings.warn(\n"
     ]
    },
    {
     "name": "stdout",
     "output_type": "stream",
     "text": [
      "[2025-06-01 19:54:33,921: INFO: _internal: 127.0.0.1 - - [01/Jun/2025 19:54:33] \"POST / HTTP/1.1\" 200 -]\n",
      "[2025-06-01 19:54:53,317: INFO: common: yaml file: config\\config.yaml loaded successfully]\n",
      "[2025-06-01 19:54:53,341: INFO: common: yaml file: params.yaml loaded successfully]\n",
      "[2025-06-01 19:54:53,345: INFO: common: created directory at: artifacts]\n",
      "[2025-06-01 19:54:53,391: INFO: _internal: 127.0.0.1 - - [01/Jun/2025 19:54:53] \"POST / HTTP/1.1\" 200 -]\n"
     ]
    },
    {
     "name": "stderr",
     "output_type": "stream",
     "text": [
      "c:\\code\\ML\\e-commerce\\env310\\lib\\site-packages\\sklearn\\utils\\validation.py:2739: UserWarning: X does not have valid feature names, but KMeans was fitted with feature names\n",
      "  warnings.warn(\n"
     ]
    },
    {
     "name": "stdout",
     "output_type": "stream",
     "text": [
      "[2025-06-01 19:55:44,852: INFO: common: yaml file: config\\config.yaml loaded successfully]\n",
      "[2025-06-01 19:55:44,889: INFO: common: yaml file: params.yaml loaded successfully]\n",
      "[2025-06-01 19:55:44,889: INFO: common: created directory at: artifacts]\n",
      "[2025-06-01 19:55:44,918: INFO: _internal: 127.0.0.1 - - [01/Jun/2025 19:55:44] \"POST / HTTP/1.1\" 200 -]\n"
     ]
    },
    {
     "name": "stderr",
     "output_type": "stream",
     "text": [
      "c:\\code\\ML\\e-commerce\\env310\\lib\\site-packages\\sklearn\\utils\\validation.py:2739: UserWarning: X does not have valid feature names, but KMeans was fitted with feature names\n",
      "  warnings.warn(\n"
     ]
    }
   ],
   "source": [
    "app = Flask(__name__)\n",
    "\n",
    "@app.route('/',methods = ['GET','POST'])\n",
    "\n",
    "def index():\n",
    "    if request.method == 'POST':\n",
    "        try:\n",
    "            features = [float(request.form.get(\"recency\")),\n",
    "                        float(request.form.get(\"frequency\")),\n",
    "                        float(request.form.get(\"monetary\"))]\n",
    "            feature_columns = ['recency','frequency','monetary']\n",
    "\n",
    "            input_data = pd.DataFrame([features],columns=feature_columns)\n",
    "\n",
    "            pred_config = ConfigurationManager().prediction_config()\n",
    "            predictor = prediction_component(config=pred_config)\n",
    "            result = predictor.predict(input=input_data)\n",
    "\n",
    "            return render_template('index.html',prediction = result)\n",
    "        except Exception as e:\n",
    "            return render_template('index.html', error=str(e))\n",
    "    return render_template('index.html')\n",
    "if __name__ == '__main__':\n",
    "    app.run(host=\"0.0.0.0\", port=8000, debug=True, use_reloader=False)\n"
   ]
  },
  {
   "cell_type": "code",
   "execution_count": null,
   "id": "2a6c3636",
   "metadata": {},
   "outputs": [],
   "source": []
  }
 ],
 "metadata": {
  "kernelspec": {
   "display_name": "env310",
   "language": "python",
   "name": "python3"
  },
  "language_info": {
   "codemirror_mode": {
    "name": "ipython",
    "version": 3
   },
   "file_extension": ".py",
   "mimetype": "text/x-python",
   "name": "python",
   "nbconvert_exporter": "python",
   "pygments_lexer": "ipython3",
   "version": "3.10.10"
  }
 },
 "nbformat": 4,
 "nbformat_minor": 5
}
