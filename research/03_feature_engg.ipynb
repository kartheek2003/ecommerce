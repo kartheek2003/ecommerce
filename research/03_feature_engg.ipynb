{
 "cells": [
  {
   "cell_type": "code",
   "execution_count": 1,
   "id": "4495fe33",
   "metadata": {},
   "outputs": [],
   "source": [
    "import os \n",
    "from pathlib import Path"
   ]
  },
  {
   "cell_type": "code",
   "execution_count": 2,
   "id": "cc25b02a",
   "metadata": {},
   "outputs": [
    {
     "data": {
      "text/plain": [
       "'c:\\\\code\\\\ML\\\\e-commerce\\\\research'"
      ]
     },
     "execution_count": 2,
     "metadata": {},
     "output_type": "execute_result"
    }
   ],
   "source": [
    "%pwd"
   ]
  },
  {
   "cell_type": "code",
   "execution_count": 3,
   "id": "c04226f8",
   "metadata": {},
   "outputs": [],
   "source": [
    "os.chdir(\"../\")"
   ]
  },
  {
   "cell_type": "code",
   "execution_count": 4,
   "id": "7aea1e9a",
   "metadata": {},
   "outputs": [
    {
     "data": {
      "text/plain": [
       "'c:\\\\code\\\\ML\\\\e-commerce'"
      ]
     },
     "execution_count": 4,
     "metadata": {},
     "output_type": "execute_result"
    }
   ],
   "source": [
    "%pwd"
   ]
  },
  {
   "cell_type": "code",
   "execution_count": null,
   "id": "c20171bd",
   "metadata": {},
   "outputs": [],
   "source": [
    "#config.yaml"
   ]
  },
  {
   "cell_type": "code",
   "execution_count": 6,
   "id": "caf67bb4",
   "metadata": {},
   "outputs": [],
   "source": [
    "#config entity\n",
    "from dataclasses import dataclass\n",
    "\n",
    "@dataclass\n",
    "class FeatureEngineeringconfig:\n",
    "  data_path : Path \n",
    "  output_path : Path\n",
    "  "
   ]
  },
  {
   "cell_type": "code",
   "execution_count": 7,
   "id": "3ab64562",
   "metadata": {},
   "outputs": [],
   "source": [
    "#configuration"
   ]
  },
  {
   "cell_type": "code",
   "execution_count": 8,
   "id": "00fca92b",
   "metadata": {},
   "outputs": [],
   "source": [
    "from e_commerce.utils.common import read_yaml , create_directories \n",
    "from e_commerce.constants import *\n",
    "from e_commerce.entity.config_entity import DataIngestionconfig,PreProcessing\n",
    "\n",
    "class ConfigurationManager:\n",
    "    def __init__(self,config_file_path=CONFIG_FILE_PATH,\n",
    "                 params_file_path = PARAMS_FILE_PATH):\n",
    "        self.config = read_yaml(config_file_path)\n",
    "        self.params = read_yaml(params_file_path)\n",
    "\n",
    "        create_directories([self.config.artifacts_root])\n",
    "\n",
    "    def get_data_ingestion_config(self)->DataIngestionconfig:\n",
    "        config = self.config.data_ingestion\n",
    "        data_ingestion_config = DataIngestionconfig(root_dir=config.root_dir,\n",
    "                                                    source_url=config.source_url,\n",
    "                                                    local_data_file=config.local_data_file)\n",
    "        return data_ingestion_config\n",
    "    \n",
    "    def get_preprocessing_config(self)->PreProcessing:\n",
    "        config = self.config.pre_processing\n",
    "        create_directories([config.cleaned_data_save_path])\n",
    "        create_directories([config.data_report])\n",
    "        pre_processing_config = PreProcessing(data_path=config.data_path,cleaned_data_save_path=config.cleaned_data_save_path,data_report=config.data_report\n",
    "                                              )\n",
    "        return pre_processing_config\n",
    "    \n",
    "\n",
    "    def get_feature_engg_config(self)->FeatureEngineeringconfig:\n",
    "        config = self.config.feature_engg\n",
    "        create_directories([config.output_path])\n",
    "        feature_engg_config = FeatureEngineeringconfig(data_path=config.data_path,output_path=config.output_path)\n",
    "        return feature_engg_config "
   ]
  },
  {
   "cell_type": "code",
   "execution_count": 9,
   "id": "959ca5da",
   "metadata": {},
   "outputs": [],
   "source": [
    "#component"
   ]
  },
  {
   "cell_type": "code",
   "execution_count": 15,
   "id": "1e357d37",
   "metadata": {},
   "outputs": [],
   "source": [
    "import pandas as pd\n",
    "import datetime\n",
    "class FeatureEnggComponent:\n",
    "    def __init__(self,config:FeatureEngineeringconfig):\n",
    "        self.config = config\n",
    "    \n",
    "    def load_data(self):\n",
    "        if not os.path.exists(self.config.data_path):\n",
    "            raise FileNotFoundError(f\"Input file not found: {self.config.data_path}\")\n",
    "        return pd.read_csv(self.config.data_path)\n",
    "        \n",
    "\n",
    "    def feature_engg(self):\n",
    "        df = self.load_data()\n",
    "        \n",
    "        # recency\n",
    "        df['InvoiceDate'] = pd.to_datetime(df['InvoiceDate'])\n",
    "        ref_date = df['InvoiceDate'].max()+datetime.timedelta(days=1)\n",
    "        df['recency'] = (ref_date - df['InvoiceDate']).dt.days\n",
    "        recency_df = df.groupby(['CustomerID'])['recency'].min().reset_index()\n",
    "\n",
    "        # monetary\n",
    "        df['monetary'] = df['Quantity']*df['UnitPrice']\n",
    "        monetary_df = df.groupby(['CustomerID'])['monetary'].sum().reset_index()\n",
    "        monetary_df.columns = ['CustomerID','monetary']\n",
    "\n",
    "        # frequency\n",
    "        frequency_df = df.groupby(['CustomerID'])['InvoiceDate'].nunique().reset_index()\n",
    "        frequency_df.columns = ['CustomerID','frequency']\n",
    "        \n",
    "\n",
    "        # rmf_data\n",
    "        rmf_df = recency_df.merge(frequency_df,on='CustomerID').merge(monetary_df,on='CustomerID')\n",
    "\n",
    "        rmf_df.to_csv(os.path.join(self.config.output_path,'rmf.csv'))"
   ]
  },
  {
   "cell_type": "code",
   "execution_count": 11,
   "id": "bdd2f099",
   "metadata": {},
   "outputs": [],
   "source": [
    "#pipeline\n"
   ]
  },
  {
   "cell_type": "code",
   "execution_count": 16,
   "id": "00a19dbc",
   "metadata": {},
   "outputs": [
    {
     "name": "stdout",
     "output_type": "stream",
     "text": [
      "[2025-05-28 15:46:38,148: INFO: common: yaml file: config\\config.yaml loaded successfully]\n",
      "[2025-05-28 15:46:38,158: INFO: common: yaml file: params.yaml loaded successfully]\n",
      "[2025-05-28 15:46:38,166: INFO: common: created directory at: artifacts]\n",
      "[2025-05-28 15:46:38,168: INFO: common: created directory at: artifacts/feature_engg]\n"
     ]
    }
   ],
   "source": [
    "try : \n",
    "    config = ConfigurationManager()\n",
    "    feature_engg_config = config.get_feature_engg_config()\n",
    "    feature_engg_comp = FeatureEnggComponent(config=feature_engg_config)\n",
    "    feature_engg_comp.feature_engg()\n",
    "except Exception as e:\n",
    "    raise e"
   ]
  },
  {
   "cell_type": "code",
   "execution_count": null,
   "id": "87895edd",
   "metadata": {},
   "outputs": [],
   "source": []
  }
 ],
 "metadata": {
  "kernelspec": {
   "display_name": "env310",
   "language": "python",
   "name": "python3"
  },
  "language_info": {
   "codemirror_mode": {
    "name": "ipython",
    "version": 3
   },
   "file_extension": ".py",
   "mimetype": "text/x-python",
   "name": "python",
   "nbconvert_exporter": "python",
   "pygments_lexer": "ipython3",
   "version": "3.10.10"
  }
 },
 "nbformat": 4,
 "nbformat_minor": 5
}
