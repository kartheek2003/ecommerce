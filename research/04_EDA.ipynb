{
 "cells": [
  {
   "cell_type": "code",
   "execution_count": 2,
   "id": "f62e951f",
   "metadata": {},
   "outputs": [],
   "source": [
    "import os"
   ]
  },
  {
   "cell_type": "code",
   "execution_count": 3,
   "id": "092dcc88",
   "metadata": {},
   "outputs": [
    {
     "data": {
      "text/plain": [
       "'c:\\\\code\\\\ML\\\\e-commerce\\\\research'"
      ]
     },
     "execution_count": 3,
     "metadata": {},
     "output_type": "execute_result"
    }
   ],
   "source": [
    "%pwd"
   ]
  },
  {
   "cell_type": "code",
   "execution_count": 4,
   "id": "f465c074",
   "metadata": {},
   "outputs": [],
   "source": [
    "os.chdir(\"../\")"
   ]
  },
  {
   "cell_type": "code",
   "execution_count": 5,
   "id": "a6d55bae",
   "metadata": {},
   "outputs": [
    {
     "data": {
      "text/plain": [
       "'c:\\\\code\\\\ML\\\\e-commerce'"
      ]
     },
     "execution_count": 5,
     "metadata": {},
     "output_type": "execute_result"
    }
   ],
   "source": [
    "%pwd"
   ]
  },
  {
   "cell_type": "code",
   "execution_count": 6,
   "id": "d909e102",
   "metadata": {},
   "outputs": [],
   "source": [
    "#config.yaml\n"
   ]
  },
  {
   "cell_type": "code",
   "execution_count": 7,
   "id": "6ebf328a",
   "metadata": {},
   "outputs": [],
   "source": [
    "#entity"
   ]
  },
  {
   "cell_type": "code",
   "execution_count": 9,
   "id": "a94fc06e",
   "metadata": {},
   "outputs": [],
   "source": [
    "from dataclasses import dataclass\n",
    "from pathlib import Path\n",
    "@dataclass\n",
    "class EDA:\n",
    "  data_path : Path\n",
    "  report : Path\n"
   ]
  },
  {
   "cell_type": "code",
   "execution_count": 10,
   "id": "e8970b10",
   "metadata": {},
   "outputs": [],
   "source": [
    "#configuration"
   ]
  },
  {
   "cell_type": "code",
   "execution_count": 11,
   "id": "1d66d01b",
   "metadata": {},
   "outputs": [],
   "source": [
    "from e_commerce.utils.common import read_yaml , create_directories \n",
    "from e_commerce.constants import *\n",
    "from e_commerce.entity.config_entity import DataIngestionconfig,PreProcessing,FeatureEngineeringconfig\n",
    "\n",
    "class ConfigurationManager:\n",
    "    def __init__(self,config_file_path=CONFIG_FILE_PATH,\n",
    "                 params_file_path = PARAMS_FILE_PATH):\n",
    "        self.config = read_yaml(config_file_path)\n",
    "        self.params = read_yaml(params_file_path)\n",
    "\n",
    "        create_directories([self.config.artifacts_root])\n",
    "\n",
    "    def get_data_ingestion_config(self)->DataIngestionconfig:\n",
    "        config = self.config.data_ingestion\n",
    "        data_ingestion_config = DataIngestionconfig(root_dir=config.root_dir,\n",
    "                                                    source_url=config.source_url,\n",
    "                                                    local_data_file=config.local_data_file)\n",
    "        return data_ingestion_config\n",
    "    \n",
    "    def get_preprocessing_config(self)->PreProcessing:\n",
    "        config = self.config.pre_processing\n",
    "        create_directories([config.cleaned_data_save_path])\n",
    "        create_directories([config.data_report])\n",
    "        pre_processing_config = PreProcessing(data_path=config.data_path,cleaned_data_save_path=config.cleaned_data_save_path,data_report=config.data_report\n",
    "                                              )\n",
    "        return pre_processing_config\n",
    "    \n",
    "    def get_feature_engg_config(self)->FeatureEngineeringconfig:\n",
    "        config = self.config.feature_engg\n",
    "        create_directories([config.output_path])\n",
    "        feature_engg_config = FeatureEngineeringconfig(data_path=config.data_path,output_path=config.output_path)\n",
    "        return feature_engg_config \n",
    "    \n",
    "\n",
    "    def get_eda_config(self)->EDA:\n",
    "        config = self.config.EDA\n",
    "        create_directories([config.report])\n",
    "        eda_config = EDA(data_path=config.data_path,report=config.report)\n",
    "\n",
    "        return eda_config"
   ]
  },
  {
   "cell_type": "code",
   "execution_count": 12,
   "id": "2e1f6c45",
   "metadata": {},
   "outputs": [],
   "source": [
    "#component"
   ]
  },
  {
   "cell_type": "code",
   "execution_count": 16,
   "id": "cbd74fa8",
   "metadata": {},
   "outputs": [],
   "source": [
    "import pandas as pd\n",
    "import seaborn as sns\n",
    "import matplotlib.pyplot as plt\n",
    "\n",
    "\n",
    "\n",
    "class EDAComponent:\n",
    "    def __init__(self,config : EDA):\n",
    "        self.config = config\n",
    "\n",
    "    def load_data(self):\n",
    "        if not os.path.exists(self.config.data_path):\n",
    "            raise FileNotFoundError(f\"Input file not found: {self.config.data_path}\")\n",
    "        return pd.read_csv(self.config.data_path)\n",
    "\n",
    "    def get_EDA(self):\n",
    "        rmf_df = self.load_data()\n",
    "\n",
    "        rmf = rmf_df[['recency', 'frequency', 'monetary']]\n",
    "\n",
    "        # Histograms\n",
    "        plt.figure(figsize=(12,10))\n",
    "        rmf.hist(bins=10, figsize=(12, 6))\n",
    "        plt.suptitle('Distributions of Recency, Frequency, and Monetary', fontsize=16)\n",
    "        plt.savefig(os.path.join(self.config.report,\"histograms.png\"))\n",
    "        plt.clf()\n",
    "\n",
    "        # Boxplots to spot outliers\n",
    "        plt.figure(figsize=(12, 5))\n",
    "        for i, col in enumerate(rmf.columns):\n",
    "            plt.subplot(1, 3, i+1)\n",
    "            sns.boxplot(y=rmf[col])\n",
    "            plt.title(f'Boxplot of {col}')\n",
    "        plt.tight_layout()\n",
    "        plt.savefig(os.path.join(self.config.report,\"boxplots.png\"))\n",
    "        plt.clf()\n",
    "\n",
    "\n",
    "        # correlation\n",
    "        plt.figure(figsize=(6,4))\n",
    "        sns.heatmap(rmf.corr(),annot=True,cmap='coolwarm')\n",
    "        plt.title('RFM Feature Correlation')\n",
    "        plt.savefig(os.path.join(self.config.report,\"correlation.png\"))\n",
    "        plt.clf()\n",
    "\n",
    "\n",
    "        # pairplots\n",
    "        \n",
    "        sns.pairplot(rmf)\n",
    "        plt.suptitle('Pairplot of RFM Features', y=1.02)\n",
    "        plt.savefig(os.path.join(self.config.report,\"pairplot.png\"))\n",
    "        plt.clf()\n"
   ]
  },
  {
   "cell_type": "code",
   "execution_count": 14,
   "id": "9e96bdda",
   "metadata": {},
   "outputs": [
    {
     "name": "stdout",
     "output_type": "stream",
     "text": [
      "Collecting seaborn\n",
      "  Using cached seaborn-0.13.2-py3-none-any.whl (294 kB)\n",
      "Requirement already satisfied: pandas>=1.2 in c:\\code\\ml\\e-commerce\\env310\\lib\\site-packages (from seaborn) (2.2.3)\n",
      "Collecting matplotlib!=3.6.1,>=3.4\n",
      "  Downloading matplotlib-3.10.3-cp310-cp310-win_amd64.whl (8.1 MB)\n",
      "     ---------------------------------------- 8.1/8.1 MB 37.3 kB/s eta 0:00:00\n",
      "Requirement already satisfied: numpy!=1.24.0,>=1.20 in c:\\code\\ml\\e-commerce\\env310\\lib\\site-packages (from seaborn) (2.2.6)\n",
      "Collecting fonttools>=4.22.0\n",
      "  Downloading fonttools-4.58.1-cp310-cp310-win_amd64.whl (2.2 MB)\n",
      "     ---------------------------------------- 2.2/2.2 MB 31.5 kB/s eta 0:00:00\n",
      "Collecting cycler>=0.10\n",
      "  Using cached cycler-0.12.1-py3-none-any.whl (8.3 kB)\n",
      "Collecting pyparsing>=2.3.1\n",
      "  Using cached pyparsing-3.2.3-py3-none-any.whl (111 kB)\n",
      "Collecting pillow>=8\n",
      "  Using cached pillow-11.2.1-cp310-cp310-win_amd64.whl (2.7 MB)\n",
      "Requirement already satisfied: python-dateutil>=2.7 in c:\\code\\ml\\e-commerce\\env310\\lib\\site-packages (from matplotlib!=3.6.1,>=3.4->seaborn) (2.8.2)\n",
      "Requirement already satisfied: packaging>=20.0 in c:\\code\\ml\\e-commerce\\env310\\lib\\site-packages (from matplotlib!=3.6.1,>=3.4->seaborn) (25.0)\n",
      "Collecting kiwisolver>=1.3.1\n",
      "  Using cached kiwisolver-1.4.8-cp310-cp310-win_amd64.whl (71 kB)\n",
      "Collecting contourpy>=1.0.1\n",
      "  Using cached contourpy-1.3.2-cp310-cp310-win_amd64.whl (221 kB)\n",
      "Requirement already satisfied: pytz>=2020.1 in c:\\code\\ml\\e-commerce\\env310\\lib\\site-packages (from pandas>=1.2->seaborn) (2025.2)\n",
      "Requirement already satisfied: tzdata>=2022.7 in c:\\code\\ml\\e-commerce\\env310\\lib\\site-packages (from pandas>=1.2->seaborn) (2025.2)\n",
      "Requirement already satisfied: six>=1.5 in c:\\code\\ml\\e-commerce\\env310\\lib\\site-packages (from python-dateutil>=2.7->matplotlib!=3.6.1,>=3.4->seaborn) (1.17.0)\n",
      "Installing collected packages: pyparsing, pillow, kiwisolver, fonttools, cycler, contourpy, matplotlib, seaborn\n",
      "Successfully installed contourpy-1.3.2 cycler-0.12.1 fonttools-4.58.1 kiwisolver-1.4.8 matplotlib-3.10.3 pillow-11.2.1 pyparsing-3.2.3 seaborn-0.13.2\n"
     ]
    },
    {
     "name": "stderr",
     "output_type": "stream",
     "text": [
      "\n",
      "[notice] A new release of pip available: 22.3.1 -> 25.1.1\n",
      "[notice] To update, run: python.exe -m pip install --upgrade pip\n"
     ]
    }
   ],
   "source": [
    "!pip install seaborn"
   ]
  },
  {
   "cell_type": "code",
   "execution_count": 15,
   "id": "3cc8b80c",
   "metadata": {},
   "outputs": [
    {
     "name": "stdout",
     "output_type": "stream",
     "text": [
      "Requirement already satisfied: matplotlib in c:\\code\\ml\\e-commerce\\env310\\lib\\site-packages (3.10.3)\n",
      "Requirement already satisfied: packaging>=20.0 in c:\\code\\ml\\e-commerce\\env310\\lib\\site-packages (from matplotlib) (25.0)\n",
      "Requirement already satisfied: numpy>=1.23 in c:\\code\\ml\\e-commerce\\env310\\lib\\site-packages (from matplotlib) (2.2.6)\n",
      "Requirement already satisfied: kiwisolver>=1.3.1 in c:\\code\\ml\\e-commerce\\env310\\lib\\site-packages (from matplotlib) (1.4.8)\n",
      "Requirement already satisfied: contourpy>=1.0.1 in c:\\code\\ml\\e-commerce\\env310\\lib\\site-packages (from matplotlib) (1.3.2)\n",
      "Requirement already satisfied: cycler>=0.10 in c:\\code\\ml\\e-commerce\\env310\\lib\\site-packages (from matplotlib) (0.12.1)\n",
      "Requirement already satisfied: python-dateutil>=2.7 in c:\\code\\ml\\e-commerce\\env310\\lib\\site-packages (from matplotlib) (2.8.2)\n",
      "Requirement already satisfied: pyparsing>=2.3.1 in c:\\code\\ml\\e-commerce\\env310\\lib\\site-packages (from matplotlib) (3.2.3)\n",
      "Requirement already satisfied: fonttools>=4.22.0 in c:\\code\\ml\\e-commerce\\env310\\lib\\site-packages (from matplotlib) (4.58.1)\n",
      "Requirement already satisfied: pillow>=8 in c:\\code\\ml\\e-commerce\\env310\\lib\\site-packages (from matplotlib) (11.2.1)\n",
      "Requirement already satisfied: six>=1.5 in c:\\code\\ml\\e-commerce\\env310\\lib\\site-packages (from python-dateutil>=2.7->matplotlib) (1.17.0)\n"
     ]
    },
    {
     "name": "stderr",
     "output_type": "stream",
     "text": [
      "\n",
      "[notice] A new release of pip available: 22.3.1 -> 25.1.1\n",
      "[notice] To update, run: python.exe -m pip install --upgrade pip\n"
     ]
    }
   ],
   "source": [
    "!pip install matplotlib"
   ]
  },
  {
   "cell_type": "code",
   "execution_count": 17,
   "id": "d34f568f",
   "metadata": {},
   "outputs": [],
   "source": [
    "#pipeline"
   ]
  },
  {
   "cell_type": "code",
   "execution_count": 18,
   "id": "6884d221",
   "metadata": {},
   "outputs": [
    {
     "name": "stdout",
     "output_type": "stream",
     "text": [
      "[2025-05-28 22:32:13,972: INFO: common: yaml file: config\\config.yaml loaded successfully]\n",
      "[2025-05-28 22:32:13,988: INFO: common: yaml file: params.yaml loaded successfully]\n",
      "[2025-05-28 22:32:13,988: INFO: common: created directory at: artifacts]\n",
      "[2025-05-28 22:32:14,003: INFO: common: created directory at: artifacts/EDA]\n"
     ]
    },
    {
     "data": {
      "text/plain": [
       "<Figure size 1200x1000 with 0 Axes>"
      ]
     },
     "metadata": {},
     "output_type": "display_data"
    },
    {
     "data": {
      "text/plain": [
       "<Figure size 1200x600 with 0 Axes>"
      ]
     },
     "metadata": {},
     "output_type": "display_data"
    },
    {
     "data": {
      "text/plain": [
       "<Figure size 1200x500 with 0 Axes>"
      ]
     },
     "metadata": {},
     "output_type": "display_data"
    },
    {
     "data": {
      "text/plain": [
       "<Figure size 600x400 with 0 Axes>"
      ]
     },
     "metadata": {},
     "output_type": "display_data"
    },
    {
     "data": {
      "text/plain": [
       "<Figure size 750x750 with 0 Axes>"
      ]
     },
     "metadata": {},
     "output_type": "display_data"
    }
   ],
   "source": [
    "try :\n",
    "    config = ConfigurationManager()\n",
    "    eda_config = config.get_eda_config()\n",
    "    eda_comp = EDAComponent(config=eda_config)\n",
    "    eda_comp.get_EDA()\n",
    "\n",
    "except Exception as e:\n",
    "    raise e"
   ]
  },
  {
   "cell_type": "code",
   "execution_count": null,
   "id": "3aac20e6",
   "metadata": {},
   "outputs": [],
   "source": []
  }
 ],
 "metadata": {
  "kernelspec": {
   "display_name": "env310",
   "language": "python",
   "name": "python3"
  },
  "language_info": {
   "codemirror_mode": {
    "name": "ipython",
    "version": 3
   },
   "file_extension": ".py",
   "mimetype": "text/x-python",
   "name": "python",
   "nbconvert_exporter": "python",
   "pygments_lexer": "ipython3",
   "version": "3.10.10"
  }
 },
 "nbformat": 4,
 "nbformat_minor": 5
}
