{
 "cells": [
  {
   "cell_type": "code",
   "execution_count": null,
   "id": "908d51a1",
   "metadata": {},
   "outputs": [],
   "source": []
  },
  {
   "cell_type": "code",
   "execution_count": 1,
   "id": "55bb6307",
   "metadata": {},
   "outputs": [],
   "source": [
    "import os"
   ]
  },
  {
   "cell_type": "code",
   "execution_count": 2,
   "id": "fad61072",
   "metadata": {},
   "outputs": [
    {
     "data": {
      "text/plain": [
       "'c:\\\\code\\\\ML\\\\e-commerce\\\\research'"
      ]
     },
     "execution_count": 2,
     "metadata": {},
     "output_type": "execute_result"
    }
   ],
   "source": [
    "%pwd"
   ]
  },
  {
   "cell_type": "code",
   "execution_count": 3,
   "id": "ee723aa1",
   "metadata": {},
   "outputs": [],
   "source": [
    "os.chdir(\"../\")"
   ]
  },
  {
   "cell_type": "code",
   "execution_count": 4,
   "id": "31d855e5",
   "metadata": {},
   "outputs": [
    {
     "data": {
      "text/plain": [
       "'c:\\\\code\\\\ML\\\\e-commerce'"
      ]
     },
     "execution_count": 4,
     "metadata": {},
     "output_type": "execute_result"
    }
   ],
   "source": [
    "%pwd"
   ]
  },
  {
   "cell_type": "code",
   "execution_count": 7,
   "id": "39d41b19",
   "metadata": {},
   "outputs": [],
   "source": [
    "import pandas as pd\n",
    "from pathlib import Path"
   ]
  },
  {
   "cell_type": "code",
   "execution_count": 6,
   "id": "5c04053e",
   "metadata": {},
   "outputs": [],
   "source": [
    "#config.yaml\n"
   ]
  },
  {
   "cell_type": "code",
   "execution_count": 17,
   "id": "c1f258ff",
   "metadata": {},
   "outputs": [],
   "source": [
    "# entity \n",
    "from dataclasses import dataclass\n",
    "@dataclass \n",
    "class PreProcessing:\n",
    "    data_path : Path\n",
    "    data_report : Path\n",
    "    cleaned_data_save_path :Path"
   ]
  },
  {
   "cell_type": "code",
   "execution_count": 11,
   "id": "8757b0fd",
   "metadata": {},
   "outputs": [],
   "source": [
    "# configuration\n"
   ]
  },
  {
   "cell_type": "code",
   "execution_count": 19,
   "id": "4b312d5b",
   "metadata": {},
   "outputs": [],
   "source": [
    "from e_commerce.utils.common import read_yaml , create_directories \n",
    "from e_commerce.constants import *\n",
    "from e_commerce.entity.config_entity import DataIngestionconfig\n",
    "\n",
    "\n",
    "class ConfigurationManager:\n",
    "    def __init__(self,config_file_path=CONFIG_FILE_PATH,\n",
    "                 params_file_path = PARAMS_FILE_PATH):\n",
    "        self.config = read_yaml(config_file_path)\n",
    "        self.params = read_yaml(params_file_path)\n",
    "\n",
    "        create_directories([self.config.artifacts_root])\n",
    "\n",
    "    def get_data_ingestion_config(self)->DataIngestionconfig:\n",
    "        config = self.config.data_ingestion\n",
    "        data_ingestion_config = DataIngestionconfig(root_dir=config.root_dir,\n",
    "                                                    source_url=config.source_url,\n",
    "                                                    local_data_file=config.local_data_file)\n",
    "        return data_ingestion_config\n",
    "    \n",
    "    def get_preprocessing_config(self)->PreProcessing:\n",
    "        config = self.config.pre_processing\n",
    "        create_directories([config.cleaned_data_save_path])\n",
    "        create_directories([config.data_report])\n",
    "        pre_processing_config = PreProcessing(data_path=config.data_path,cleaned_data_save_path=config.cleaned_data_save_path,data_report=config.data_report\n",
    "                                              )\n",
    "        return pre_processing_config\n",
    "    \n",
    "\n",
    "    \n"
   ]
  },
  {
   "cell_type": "code",
   "execution_count": 16,
   "id": "d03e9aba",
   "metadata": {},
   "outputs": [],
   "source": [
    "#components"
   ]
  },
  {
   "cell_type": "code",
   "execution_count": 20,
   "id": "18171f6a",
   "metadata": {},
   "outputs": [],
   "source": [
    "import pandas as pd\n",
    "from e_commerce import logger\n",
    "class PreProcessingComponent:\n",
    "    def __init__(self,config:PreProcessing):\n",
    "        self.config = config\n",
    "\n",
    "    def load_data(self):\n",
    "        if not os.path.exists(self.config.data_path):\n",
    "            raise FileNotFoundError(f\"Input file not found: {self.config.data_path}\")\n",
    "        return pd.read_excel(self.config.data_path)\n",
    "    def data_cleaning(self):\n",
    "        df = self.load_data()\n",
    "        with open(os.path.join(self.config.data_report,'pre_info.txt'),'w') as f:\n",
    "            f.write(str(df.isna().sum()))\n",
    "        logger.info(f\"check {self.config.data_report} for data reports\")\n",
    "        \n",
    "        # data cleaning \n",
    "        df = df.dropna()\n",
    "        df = df.dropna(subset=['CustomerID'])\n",
    "        df = df.drop(['Description','Country'],axis = 1 )\n",
    "        # Convert CustomerID to string (for grouping)\n",
    "        df['CustomerID'] = df['CustomerID'].astype(dtype=str)\n",
    "        df = df.reset_index(drop=True)\n",
    "        logger.info('data cleaning completed')\n",
    "\n",
    "        cleaned_file_path = os.path.join(self.config.cleaned_data_save_path,\"pre_processed.csv\")\n",
    "        df.to_csv(cleaned_file_path, index=False)\n",
    "        logger.info(f\"Cleaned data saved to: {cleaned_file_path}\")\n"
   ]
  },
  {
   "cell_type": "code",
   "execution_count": 21,
   "id": "182c75b5",
   "metadata": {},
   "outputs": [
    {
     "name": "stdout",
     "output_type": "stream",
     "text": [
      "[2025-05-27 21:09:42,067: INFO: common: yaml file: config\\config.yaml loaded successfully]\n",
      "[2025-05-27 21:09:42,187: INFO: common: yaml file: params.yaml loaded successfully]\n",
      "[2025-05-27 21:09:42,202: INFO: common: created directory at: artifacts]\n",
      "[2025-05-27 21:09:42,213: INFO: common: created directory at: artifacts/cleaned_data]\n",
      "[2025-05-27 21:09:42,220: INFO: common: created directory at: artifacts/data_report]\n",
      "[2025-05-27 21:11:08,759: INFO: 2842944345: check artifacts/data_report for data reports]\n",
      "[2025-05-27 21:11:09,742: INFO: 2842944345: data cleaning completed]\n",
      "[2025-05-27 21:11:13,808: INFO: 2842944345: Cleaned data saved to: artifacts/cleaned_data\\pre_processed.csv]\n"
     ]
    }
   ],
   "source": [
    "#pipeline\n",
    "try :\n",
    "    config = ConfigurationManager()\n",
    "    data_preprocessing_config = config.get_preprocessing_config()\n",
    "    pre_process_component = PreProcessingComponent(config=data_preprocessing_config)\n",
    "    pre_process_component.data_cleaning()\n",
    "except Exception as e:\n",
    "    raise e\n",
    "\n"
   ]
  },
  {
   "cell_type": "code",
   "execution_count": null,
   "id": "37fbb9a9",
   "metadata": {},
   "outputs": [],
   "source": []
  }
 ],
 "metadata": {
  "kernelspec": {
   "display_name": "env310",
   "language": "python",
   "name": "python3"
  },
  "language_info": {
   "codemirror_mode": {
    "name": "ipython",
    "version": 3
   },
   "file_extension": ".py",
   "mimetype": "text/x-python",
   "name": "python",
   "nbconvert_exporter": "python",
   "pygments_lexer": "ipython3",
   "version": "3.10.10"
  }
 },
 "nbformat": 4,
 "nbformat_minor": 5
}
