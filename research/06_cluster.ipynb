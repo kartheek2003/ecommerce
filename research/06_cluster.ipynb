{
 "cells": [
  {
   "cell_type": "code",
   "execution_count": null,
   "id": "96990f99",
   "metadata": {},
   "outputs": [],
   "source": []
  },
  {
   "cell_type": "code",
   "execution_count": 2,
   "id": "6ecad855",
   "metadata": {},
   "outputs": [],
   "source": [
    "import os \n"
   ]
  },
  {
   "cell_type": "code",
   "execution_count": 3,
   "id": "6bc629c1",
   "metadata": {},
   "outputs": [
    {
     "data": {
      "text/plain": [
       "'c:\\\\code\\\\ML\\\\e-commerce\\\\research'"
      ]
     },
     "execution_count": 3,
     "metadata": {},
     "output_type": "execute_result"
    }
   ],
   "source": [
    "%pwd"
   ]
  },
  {
   "cell_type": "code",
   "execution_count": 4,
   "id": "4b125117",
   "metadata": {},
   "outputs": [],
   "source": [
    "os.chdir(\"../\")"
   ]
  },
  {
   "cell_type": "code",
   "execution_count": 5,
   "id": "6fe2d778",
   "metadata": {},
   "outputs": [
    {
     "data": {
      "text/plain": [
       "'c:\\\\code\\\\ML\\\\e-commerce'"
      ]
     },
     "execution_count": 5,
     "metadata": {},
     "output_type": "execute_result"
    }
   ],
   "source": [
    "%pwd"
   ]
  },
  {
   "cell_type": "code",
   "execution_count": 6,
   "id": "b12f8ab9",
   "metadata": {},
   "outputs": [],
   "source": [
    "#config.yaml"
   ]
  },
  {
   "cell_type": "code",
   "execution_count": 7,
   "id": "be9fd521",
   "metadata": {},
   "outputs": [],
   "source": [
    "#config entity"
   ]
  },
  {
   "cell_type": "code",
   "execution_count": 12,
   "id": "084d8e70",
   "metadata": {},
   "outputs": [],
   "source": [
    "from e_commerce.utils.common import read_yaml , create_directories \n",
    "from e_commerce.constants import *\n",
    "from e_commerce.entity.config_entity import DataIngestionconfig,PreProcessing,FeatureEngineeringconfig,EDA,outlier,cluster\n",
    "\n",
    "class ConfigurationManager:\n",
    "    def __init__(self,config_file_path=CONFIG_FILE_PATH,\n",
    "                 params_file_path = PARAMS_FILE_PATH):\n",
    "        self.config = read_yaml(config_file_path)\n",
    "        self.params = read_yaml(params_file_path)\n",
    "\n",
    "        create_directories([self.config.artifacts_root])\n",
    "\n",
    "    def get_data_ingestion_config(self)->DataIngestionconfig:\n",
    "        config = self.config.data_ingestion\n",
    "        data_ingestion_config = DataIngestionconfig(root_dir=config.root_dir,\n",
    "                                                    source_url=config.source_url,\n",
    "                                                    local_data_file=config.local_data_file)\n",
    "        return data_ingestion_config\n",
    "    \n",
    "    def get_preprocessing_config(self)->PreProcessing:\n",
    "        config = self.config.pre_processing\n",
    "        create_directories([config.cleaned_data_save_path])\n",
    "        create_directories([config.data_report])\n",
    "        pre_processing_config = PreProcessing(data_path=config.data_path,cleaned_data_save_path=config.cleaned_data_save_path,data_report=config.data_report\n",
    "                                              )\n",
    "        return pre_processing_config\n",
    "    \n",
    "    def get_feature_engg_config(self)->FeatureEngineeringconfig:\n",
    "        config = self.config.feature_engg\n",
    "        create_directories([config.output_path])\n",
    "        feature_engg_config = FeatureEngineeringconfig(data_path=config.data_path,output_path=config.output_path)\n",
    "        return feature_engg_config \n",
    "    \n",
    "    def get_eda_config(self)->EDA:\n",
    "        config = self.config.EDA\n",
    "        create_directories([config.report])\n",
    "        eda_config = EDA(data_path=config.data_path,report=config.report)\n",
    "\n",
    "        return eda_config\n",
    "    \n",
    "    def outlier_config(self)->outlier:\n",
    "        config = self.config.outlier\n",
    "        create_directories([config.output_path])\n",
    "        create_directories([config.report])\n",
    "        outlier_config = outlier(data_path=config.data_path,output_path=config.output_path,report=config.report)\n",
    "        return outlier_config\n",
    "    \n",
    "    def cluster_config(self)->cluster:\n",
    "        config = self.config.cluster\n",
    "        params = self.params.cluster\n",
    "        create_directories([config.models])\n",
    "        create_directories([config.report])\n",
    "        model_building_config = cluster(data_path=config.data_path,models=config.models,report=config.report,random_state= params.random_state)\n",
    "        return model_building_config"
   ]
  },
  {
   "cell_type": "code",
   "execution_count": 13,
   "id": "05540652",
   "metadata": {},
   "outputs": [],
   "source": [
    "#component"
   ]
  },
  {
   "cell_type": "code",
   "execution_count": null,
   "id": "1d3d1cda",
   "metadata": {},
   "outputs": [],
   "source": [
    "import pandas as pd\n",
    "import matplotlib.pyplot as plt\n",
    "import seaborn as sns\n",
    "from sklearn.preprocessing import MinMaxScaler\n",
    "import joblib\n",
    "from sklearn.cluster import KMeans\n",
    "from kneed import KneeLocator\n",
    "class ClusterComponent:\n",
    "    def __init__(self,config : cluster):\n",
    "        self.config = config\n",
    "        \n",
    "    def load_data(self):\n",
    "        if not os.path.exists(self.config.data_path):\n",
    "            raise FileNotFoundError(f\"Input file not found: {self.config.data_path}\")\n",
    "        return pd.read_csv(self.config.data_path)\n",
    "\n",
    "    def get_cluster(self):\n",
    "        df = self.load_data()\n",
    "        rmf = df[['recency','frequency','monetary']]\n",
    "        # scaling\n",
    "        scaler = MinMaxScaler()\n",
    "        rmf_scaled = scaler.fit_transform(rmf)\n",
    "        rmf_scaled = pd.DataFrame(data=rmf_scaled, columns=['recency', 'frequency', 'monetary'])\n",
    "        # rmf_scaled.to_csv(self.config.models)\n",
    "        joblib.dump(scaler,os.path.join(self.config.models,'scaler.pkl'))\n",
    "\n",
    "        # elbow method\n",
    "        sse = []\n",
    "        k_range = range(1,10)\n",
    "        for k in k_range:\n",
    "            km = KMeans(n_clusters=k,random_state=self.config.random_state)\n",
    "            km.fit(rmf_scaled[['recency','monetary']])\n",
    "            sse.append(km.inertia_)\n",
    "        with open(os.path.join(self.config.report,\"sse_info.txt\"),'w') as f:\n",
    "            for i, val in enumerate(sse, start=1):\n",
    "                f.write(f\"k={i}, SSE={val}\\n\")\n",
    "            \n",
    "\n",
    "        # knee locator \n",
    "        kl = KneeLocator(\n",
    "            x= k_range,\n",
    "            y=sse,\n",
    "            curve='convex',\n",
    "            direction='decreasing'\n",
    "        )\n",
    "\n",
    "        with open(os.path.join(self.config.report,'knee_elbow.txt'),'w') as f:\n",
    "            f.write(f'optimal no of clusters (elbow) : {kl.elbow}')\n",
    "        \n",
    "        print(f\"Optimal number of clusters (elbow): {kl.elbow}\")\n",
    "        joblib.dump(kl,os.path.join(self.config.cluster,'kneelocator.pkl'))\n",
    "\n",
    "        # Plot the elbow graph\n",
    "        plt.plot(k_range, sse, marker='o')\n",
    "        plt.axvline(x=kl.elbow, color='red', linestyle='--', label=f'Elbow at k={kl.elbow}')\n",
    "        plt.xlabel('Number of Clusters')\n",
    "        plt.ylabel('SSE')\n",
    "        plt.title('Elbow Method with KneeLocator')\n",
    "        plt.legend()\n",
    "        plt.grid(True)\n",
    "        plt.savefig(os.path.join(self.config.report,\"elbow_graph.png\"))\n",
    "        plt.clf()\n",
    "\n",
    "       \n",
    "\n",
    "\n",
    "                            \n",
    "\n",
    "\n",
    "\n",
    "        \n",
    "\n",
    "\n",
    "        "
   ]
  },
  {
   "cell_type": "code",
   "execution_count": 16,
   "id": "c1bcf6e0",
   "metadata": {},
   "outputs": [
    {
     "name": "stdout",
     "output_type": "stream",
     "text": [
      "[2025-06-01 14:40:27,496: INFO: common: yaml file: config\\config.yaml loaded successfully]\n",
      "[2025-06-01 14:40:27,503: INFO: common: yaml file: params.yaml loaded successfully]\n",
      "[2025-06-01 14:40:27,503: INFO: common: created directory at: artifacts]\n",
      "[2025-06-01 14:40:27,513: INFO: common: created directory at: artifacts/cluster]\n",
      "[2025-06-01 14:40:27,517: INFO: common: created directory at: artifacts/cluster/report]\n"
     ]
    },
    {
     "name": "stdout",
     "output_type": "stream",
     "text": [
      "Optimal number of clusters (elbow): 3\n"
     ]
    },
    {
     "data": {
      "text/plain": [
       "<Figure size 640x480 with 0 Axes>"
      ]
     },
     "metadata": {},
     "output_type": "display_data"
    }
   ],
   "source": [
    "#pipeline\n",
    "try : \n",
    "    config = ConfigurationManager()\n",
    "    cluster_config = config.cluster_config()\n",
    "    cluster_comp = ClusterComponent(config=cluster_config)\n",
    "    cluster_comp.get_cluster()\n",
    "except Exception as e:\n",
    "    raise e"
   ]
  },
  {
   "cell_type": "code",
   "execution_count": null,
   "id": "da26bf7e",
   "metadata": {},
   "outputs": [],
   "source": []
  }
 ],
 "metadata": {
  "kernelspec": {
   "display_name": "env310",
   "language": "python",
   "name": "python3"
  },
  "language_info": {
   "codemirror_mode": {
    "name": "ipython",
    "version": 3
   },
   "file_extension": ".py",
   "mimetype": "text/x-python",
   "name": "python",
   "nbconvert_exporter": "python",
   "pygments_lexer": "ipython3",
   "version": "3.10.10"
  }
 },
 "nbformat": 4,
 "nbformat_minor": 5
}
